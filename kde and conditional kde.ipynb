{
  "nbformat": 4,
  "nbformat_minor": 0,
  "metadata": {
    "colab": {
      "provenance": []
    },
    "kernelspec": {
      "name": "python3",
      "display_name": "Python 3"
    },
    "language_info": {
      "name": "python"
    }
  },
  "cells": [
    {
      "cell_type": "code",
      "execution_count": null,
      "metadata": {
        "id": "TmWKNsH7k7l9"
      },
      "outputs": [],
      "source": [
        "import pandas as pd\n",
        "import numpy as np\n",
        "from scipy.stats import gaussian_kde\n",
        "import matplotlib.pyplot as plt"
      ]
    },
    {
      "cell_type": "code",
      "source": [
        "data = pd.read_csv('recording17.csv', header=[0, 1], index_col=0)"
      ],
      "metadata": {
        "id": "IuMQE41mlNPU"
      },
      "execution_count": null,
      "outputs": []
    },
    {
      "cell_type": "markdown",
      "source": [
        "# New Section"
      ],
      "metadata": {
        "id": "ey-1sc0cANw_"
      }
    },
    {
      "cell_type": "code",
      "source": [
        "data"
      ],
      "metadata": {
        "id": "zw6DcJ6alOI_"
      },
      "execution_count": 27,
      "outputs": []
    },
    {
      "cell_type": "code",
      "source": [
        "person_2 = data['2']\n",
        "print(person_2)"
      ],
      "metadata": {
        "id": "uXAe_kBBlQX_"
      },
      "execution_count": 28,
      "outputs": []
    },
    {
      "cell_type": "code",
      "source": [
        "# here I am extracting gaze estimates and speaking indicator for person '2'\n",
        "gaze_x = person_2['gaze_x']\n",
        "gaze_y = person_2['gaze_y']\n",
        "speaking = person_2\n"
      ],
      "metadata": {
        "id": "OJAYL5YWlStG"
      },
      "execution_count": 29,
      "outputs": []
    },
    {
      "cell_type": "code",
      "source": [
        "total_rows = gaze_x.shape[0]\n",
        "print(gaze_x)"
      ],
      "metadata": {
        "id": "0YLRFkKAqXFD"
      },
      "execution_count": 30,
      "outputs": []
    },
    {
      "cell_type": "code",
      "source": [
        "# this function is applying Gaussian kde\n",
        "def plot_kde(x, y, label, title):\n",
        "    # Removing invalid values\n",
        "    mask = np.isfinite(x) & np.isfinite(y)\n",
        "    x = x[mask]\n",
        "    y = y[mask]\n",
        "\n",
        "    kde = gaussian_kde(np.vstack([x, y]))\n",
        "    xi, yi = np.mgrid[x.min():x.max():x.size**0.5*1j, y.min():y.max():y.size**0.5*1j]\n",
        "    zi = kde(np.vstack([xi.flatten(), yi.flatten()]))\n",
        "\n",
        "    plt.figure(figsize=(8, 8))\n",
        "    plt.pcolormesh(xi, yi, zi.reshape(xi.shape), shading='auto', cmap='viridis')\n",
        "    plt.title(title)\n",
        "    plt.xlabel('Gaze X')\n",
        "    plt.ylabel('Gaze Y')\n",
        "    plt.legend()\n",
        "    plt.show()"
      ],
      "metadata": {
        "id": "-N9coCfbmZxB"
      },
      "execution_count": null,
      "outputs": []
    },
    {
      "cell_type": "code",
      "source": [
        "plot_kde(gaze_x, gaze_y, 'Gaze Estimates', 'Gaze KDE (g_0)')"
      ],
      "metadata": {
        "id": "0DZErUC6r3OM"
      },
      "execution_count": 31,
      "outputs": []
    },
    {
      "cell_type": "code",
      "source": [
        "# funtion for plotting Conditional KDE for gaze estimates\n",
        "def plot_conditional_kde(x, y, speaking, label, title):\n",
        "    speaking_values = speaking['speaking'].unique()\n",
        "    print(speaking_values)\n",
        "    speaking_colors = ['r', 'g', 'b'][:len(speaking_values)]\n",
        "    print(speaking_colors)\n",
        "    plt.figure(figsize=(8, 8))\n",
        "\n",
        "    for value, color in zip(speaking_values, speaking_colors):\n",
        "        mask = speaking['speaking'] == value\n",
        "        print(mask)\n",
        "        x_subset, y_subset = x[mask], y[mask]\n",
        "        print(\"x_sub\",x_subset)\n",
        "        # removing invalid values\n",
        "        valid_values = np.isfinite(x_subset) & np.isfinite(y_subset)\n",
        "        x_subset, y_subset = x_subset[valid_values], y_subset[valid_values]\n",
        "\n",
        "\n",
        "        if len(x_subset) > 0 and len(y_subset) > 0:\n",
        "            kde = gaussian_kde(np.vstack([x_subset, y_subset]))\n",
        "            xi, yi = np.mgrid[x_subset.min():x_subset.max():x_subset.size**0.5*1j, y_subset.min():y_subset.max():y_subset.size**0.5*1j]\n",
        "            zi = kde(np.vstack([xi.flatten(), yi.flatten()]))\n",
        "            #print(\"\\nzi:\",zi)\n",
        "            plt.title(title)\n",
        "            plt.figure()\n",
        "            plt.pcolormesh(xi, yi, zi.reshape(xi.shape), shading='auto', cmap='viridis', alpha=0.5)\n",
        "            #plt.scatter(x_subset, y_subset, c=color, s=5, label=f'Speaking: {value}')\n",
        "\n",
        "    plt.title(title)\n",
        "    plt.xlabel('Gaze X')\n",
        "    plt.ylabel('Gaze Y')\n",
        "    plt.legend()\n",
        "    plt.show()"
      ],
      "metadata": {
        "id": "5pnWMz8Blc2d"
      },
      "execution_count": null,
      "outputs": []
    },
    {
      "cell_type": "code",
      "source": [
        "# separating data where person 4 is speaking\n",
        "gaze_person2_id4 = data['2'][data['4']['speaking'] == 1][['gaze_x', 'gaze_y', 'speaking']]"
      ],
      "metadata": {
        "id": "BPxjBS1QwU1f"
      },
      "execution_count": null,
      "outputs": []
    },
    {
      "cell_type": "code",
      "source": [
        "gaze_person2_id4['gaze_x']"
      ],
      "metadata": {
        "id": "vaFsynEnC9ng"
      },
      "execution_count": 32,
      "outputs": []
    },
    {
      "cell_type": "code",
      "source": [
        "plot_conditional_kde(gaze_person2_id4['gaze_x'], gaze_person2_id4['gaze_y'], gaze_person2_id4, 'Gaze Estimates', 'Conditional Gaze KDE (g_0|1)')"
      ],
      "metadata": {
        "id": "0iKc7Y9s04-e"
      },
      "execution_count": 33,
      "outputs": []
    },
    {
      "cell_type": "code",
      "source": [
        "gaze_person2_id4"
      ],
      "metadata": {
        "id": "wHq6dsEPwm49"
      },
      "execution_count": 34,
      "outputs": []
    },
    {
      "cell_type": "code",
      "source": [
        "# separating data where person 3 is speaking\n",
        "gaze_person2_id3 = data['2'][data['3']['speaking'] == 1][['gaze_x', 'gaze_y', 'speaking']]"
      ],
      "metadata": {
        "id": "trDeGCB4x7Xf"
      },
      "execution_count": null,
      "outputs": []
    },
    {
      "cell_type": "code",
      "source": [
        "gaze_person2_id3"
      ],
      "metadata": {
        "id": "zcXInrPX3vtO"
      },
      "execution_count": 35,
      "outputs": []
    },
    {
      "cell_type": "code",
      "source": [
        "plot_conditional_kde(gaze_person2_id3['gaze_x'], gaze_person2_id3['gaze_y'], gaze_person2_id3, 'Gaze Estimates', ' conditional Gaze KDE (g_0|2)')"
      ],
      "metadata": {
        "id": "sp305_V64aS3"
      },
      "execution_count": 36,
      "outputs": []
    },
    {
      "cell_type": "code",
      "source": [
        "# separating data where person 2 is speaking\n",
        "gaze_person2_id1 = data['2'][data['1']['speaking'] == 1][['gaze_x', 'gaze_y', 'speaking']]"
      ],
      "metadata": {
        "id": "lwkGl3PG41DH"
      },
      "execution_count": null,
      "outputs": []
    },
    {
      "cell_type": "code",
      "source": [
        "plot_conditional_kde(gaze_person2_id1['gaze_x'], gaze_person2_id1['gaze_y'], gaze_person2_id1, 'Gaze Estimates', 'Gaze KDE (g_0|3)')"
      ],
      "metadata": {
        "id": "XsmK1yYF5AGC"
      },
      "execution_count": 37,
      "outputs": []
    },
    {
      "cell_type": "code",
      "source": [
        "# Combining all the functions to calculate differnece map\n",
        "# this function is taken from above section\n",
        "def plot_kde(x, y, label, title):\n",
        "    mask = np.isfinite(x) & np.isfinite(y)\n",
        "    x = x[mask]\n",
        "    y = y[mask]\n",
        "\n",
        "    kde = gaussian_kde(np.vstack([x, y]))\n",
        "    xi, yi = np.mgrid[x.min():x.max():x.size**0.5*1j, y.min():y.max():y.size**0.5*1j]\n",
        "    zi = kde(np.vstack([xi.flatten(), yi.flatten()]))\n",
        "\n",
        "    plt.figure(figsize=(8, 8))\n",
        "    plt.pcolormesh(xi, yi, zi.reshape(xi.shape), shading='auto', cmap='viridis')\n",
        "    plt.scatter(x, y, c='r', s=5, label=label)\n",
        "    plt.title(title)\n",
        "    plt.xlabel('Gaze X')\n",
        "    plt.ylabel('Gaze Y')\n",
        "    plt.legend()\n",
        "    plt.show()\n",
        "\n",
        "    return xi, yi, kde  # Return values to use in next function\n",
        "\n",
        "# conditional kde function also taken from above section\n",
        "def plot_conditional_kde(x, y, speaking, label, title):\n",
        "    speaking_values = speaking['speaking'].unique()\n",
        "    speaking_colors = ['r', 'g', 'b'][:len(speaking_values)]\n",
        "\n",
        "    plt.figure(figsize=(8, 8))\n",
        "\n",
        "    kde_list = []  # apending in kde list for later use\n",
        "\n",
        "    for value, color in zip(speaking_values, speaking_colors):\n",
        "        mask = speaking['speaking'] == value\n",
        "        x_subset, y_subset = x[mask], y[mask]\n",
        "\n",
        "        # Remove invalid values\n",
        "        valid_values = np.isfinite(x_subset) & np.isfinite(y_subset)\n",
        "        x_subset = x_subset[valid_values]\n",
        "        y_subset = y_subset[valid_values]\n",
        "\n",
        "\n",
        "        if len(x_subset) > 0 and len(y_subset) > 0:\n",
        "            kde = gaussian_kde(np.vstack([x_subset, y_subset]))\n",
        "            xi_conditional, yi_conditional = np.mgrid[x_subset.min():x_subset.max():x_subset.size**0.5*1j,\n",
        "                                                      y_subset.min():y_subset.max():y_subset.size**0.5*1j]\n",
        "            zi_conditional = kde(np.vstack([xi_conditional.flatten(), yi_conditional.flatten()]))\n",
        "\n",
        "            plt.pcolormesh(xi_conditional, yi_conditional, zi_conditional.reshape(xi_conditional.shape),\n",
        "                           shading='auto', cmap='viridis', alpha=0.5)\n",
        "            plt.scatter(x_subset, y_subset, c=color, s=5, label=f'Speaking: {value}')\n",
        "\n",
        "            kde_list.append(kde)  # Appending kde to the list\n",
        "\n",
        "    plt.title(title)\n",
        "    plt.xlabel('Gaze X')\n",
        "    plt.ylabel('Gaze Y')\n",
        "    plt.legend()\n",
        "    plt.show()\n",
        "\n",
        "    return xi_conditional, yi_conditional, kde_list  # Return the list of kde\n",
        "\n",
        "# Subtracting\n",
        "def subtract_kde(general_kde, conditional_kde_list, xi, yi, x, y, label, title):\n",
        "    # Evaluate both KDEs at the given set of points\n",
        "    general_density = general_kde(np.vstack([xi.flatten(), yi.flatten()]))\n",
        "    x = np.asarray(x).flatten()\n",
        "    y = np.asarray(y).flatten()\n",
        "\n",
        "    plt.figure(figsize=(8, 8))\n",
        "\n",
        "    for conditional_kde in conditional_kde_list:\n",
        "        conditional_density = conditional_kde(np.vstack([xi.flatten(), yi.flatten()]))\n",
        "        difference_density = conditional_density - general_density\n",
        "        difference_density = difference_density.reshape(xi.shape)\n",
        "\n",
        "        plt.pcolormesh(xi, yi, difference_density, shading='auto', cmap='viridis')\n",
        "\n",
        "        plt.title(title)\n",
        "        plt.xlabel('Gaze X')\n",
        "        plt.ylabel('Gaze Y')\n",
        "\n"
      ],
      "metadata": {
        "id": "QcCahMumBXjc"
      },
      "execution_count": null,
      "outputs": []
    },
    {
      "cell_type": "code",
      "source": [
        "# Calling plot function\n",
        "xi_general, yi_general, general_kde = plot_kde(gaze_x, gaze_y, 'General KDE', 'General KDE Plot')\n",
        "\n",
        "# calling conditional function\n",
        "xi_conditional, yi_conditional, conditional_kde_list = plot_conditional_kde(gaze_person2_id1['gaze_x'], gaze_person2_id1['gaze_y'], gaze_person2_id1, 'Conditional KDE', 'Conditional KDE Plot')\n",
        "\n",
        "# calling subtract function\n",
        "subtract_kde(general_kde, conditional_kde_list, xi_general, yi_general, gaze_person2_id1['gaze_x'], gaze_person2_id1['gaze_y'], 'Subtracted KDE', 'Subtracted KDE Plot')\n",
        "\n",
        "\n"
      ],
      "metadata": {
        "id": "t_N4H39o4LyS"
      },
      "execution_count": 38,
      "outputs": []
    },
    {
      "cell_type": "code",
      "source": [
        "# Calling plot function\n",
        "xi_general, yi_general, general_kde = plot_kde(gaze_x, gaze_y, 'General KDE', 'General KDE Plot')\n",
        "\n",
        "# calling conditional function\n",
        "xi_conditional, yi_conditional, conditional_kde_list = plot_conditional_kde(gaze_person2_id3['gaze_x'], gaze_person2_id3['gaze_y'], gaze_person2_id3, 'Conditional KDE', 'Conditional KDE Plot')\n",
        "\n",
        "# calling subtract function\n",
        "subtract_kde(general_kde, conditional_kde_list, xi_general, yi_general, gaze_person2_id3['gaze_x'], gaze_person2_id3['gaze_y'], 'Subtracted KDE', 'Subtracted KDE Plot')\n",
        "\n",
        "\n"
      ],
      "metadata": {
        "id": "6Io4GT2U4N40"
      },
      "execution_count": 39,
      "outputs": []
    },
    {
      "cell_type": "code",
      "source": [
        "# Calling plot function\n",
        "xi_general, yi_general, general_kde = plot_kde(gaze_x, gaze_y, 'General KDE', 'General KDE Plot')\n",
        "\n",
        "# calling conditional function\n",
        "xi_conditional, yi_conditional, conditional_kde_list = plot_conditional_kde(gaze_person2_id4['gaze_x'], gaze_person2_id4['gaze_y'], gaze_person2_id4, 'Conditional KDE', 'Conditional KDE Plot')\n",
        "\n",
        "# calling subtract function\n",
        "subtract_kde(general_kde, conditional_kde_list, xi_general, yi_general, gaze_person2_id4['gaze_x'], gaze_person2_id4['gaze_y'], 'Subtracted KDE', 'Subtracted KDE Plot')\n",
        "\n",
        "\n"
      ],
      "metadata": {
        "id": "UV8WkAU21tfi"
      },
      "execution_count": 40,
      "outputs": []
    }
  ]
}