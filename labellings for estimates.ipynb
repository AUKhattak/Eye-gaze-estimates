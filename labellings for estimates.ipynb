{
  "nbformat": 4,
  "nbformat_minor": 0,
  "metadata": {
    "colab": {
      "provenance": []
    },
    "kernelspec": {
      "name": "python3",
      "display_name": "Python 3"
    },
    "language_info": {
      "name": "python"
    }
  },
  "cells": [
    {
      "cell_type": "code",
      "execution_count": 1,
      "metadata": {
        "id": "qzsoDMR2ziQe"
      },
      "outputs": [],
      "source": [
        "import pandas as pd\n",
        "import numpy as np\n",
        "from scipy.stats import gaussian_kde\n",
        "import matplotlib.pyplot as plt"
      ]
    },
    {
      "cell_type": "markdown",
      "source": [
        "# New Section"
      ],
      "metadata": {
        "id": "MeuGuDdqIWoF"
      }
    },
    {
      "cell_type": "code",
      "source": [
        "# Load data from the CSV file\n",
        "data = pd.read_csv('recording17.csv', header=[0, 1], index_col=0)"
      ],
      "metadata": {
        "id": "J1w-oppDzt8x"
      },
      "execution_count": 2,
      "outputs": []
    },
    {
      "cell_type": "code",
      "source": [
        "person_2 = data['2']\n",
        "\n",
        "# Display the resulting DataFrame\n",
        "print(person_2)"
      ],
      "metadata": {
        "id": "j5s1R35UzzJl"
      },
      "execution_count": 12,
      "outputs": []
    },
    {
      "cell_type": "code",
      "source": [
        "gaze_x = person_2['gaze_x']\n",
        "gaze_y = person_2['gaze_y']\n",
        "speaking = person_2\n"
      ],
      "metadata": {
        "id": "T596GQGFz2kG"
      },
      "execution_count": 4,
      "outputs": []
    },
    {
      "cell_type": "code",
      "source": [
        "# separating data where person 1  is speaking\n",
        "gaze_person2_id4 = data['2'][data['4']['speaking'] == 1][['gaze_x', 'gaze_y', 'speaking']]"
      ],
      "metadata": {
        "id": "1IVQ3T5xz_u0"
      },
      "execution_count": 5,
      "outputs": []
    },
    {
      "cell_type": "code",
      "source": [
        "# separating data where person 2 is speaking\n",
        "gaze_person2_id3 = data['2'][data['3']['speaking'] == 1][['gaze_x', 'gaze_y', 'speaking']]"
      ],
      "metadata": {
        "id": "oZAIIxzT0DMf"
      },
      "execution_count": 6,
      "outputs": []
    },
    {
      "cell_type": "code",
      "source": [
        "# separating data where person 3 is speaking\n",
        "gaze_person2_id1 = data['2'][data['1']['speaking'] == 1][['gaze_x', 'gaze_y', 'speaking']]"
      ],
      "metadata": {
        "id": "rnwf4coq0Hi_"
      },
      "execution_count": 7,
      "outputs": []
    },
    {
      "cell_type": "code",
      "source": [
        "# def plot_kde(x, y, label, title):\n",
        "#     mask = np.isfinite(x) & np.isfinite(y)\n",
        "#     x = x[mask]\n",
        "#     y = y[mask]\n",
        "\n",
        "#     kde = gaussian_kde(np.vstack([x, y]))\n",
        "#     xi, yi = np.mgrid[x.min():x.max():x.size**0.5*1j, y.min():y.max():y.size**0.5*1j]\n",
        "#     zi = kde(np.vstack([xi.flatten(), yi.flatten()]))\n",
        "\n",
        "#     plt.figure(figsize=(8, 8))\n",
        "#     plt.pcolormesh(xi, yi, zi.reshape(xi.shape), shading='auto', cmap='viridis')\n",
        "#     # plt.scatter(x, y, c='r', s=5, label=label)\n",
        "#     plt.figure()\n",
        "#     plt.title(title)\n",
        "#     plt.xlabel('Gaze X')\n",
        "#     plt.ylabel('Gaze Y')\n",
        "#     plt.legend()\n",
        "#     plt.show()\n",
        "\n",
        "#     return xi, yi, kde\n",
        "\n",
        "# def plot_conditional_kde(x, y, speaking, label, title):\n",
        "#     speaking_values = speaking['speaking'].unique()\n",
        "#     speaking_colors = ['r', 'g', 'b'][:len(speaking_values)]\n",
        "\n",
        "#     plt.figure(figsize=(8, 8))\n",
        "#     kde_list = []\n",
        "\n",
        "#     for value, color in zip(speaking_values, speaking_colors):\n",
        "#         mask = speaking['speaking'] == value\n",
        "#         x_subset, y_subset = x[mask], y[mask]\n",
        "\n",
        "#         valid_values = np.isfinite(x_subset) & np.isfinite(y_subset)\n",
        "#         x_subset = x_subset[valid_values]\n",
        "#         y_subset = y_subset[valid_values]\n",
        "\n",
        "#         if len(x_subset) > 0 and len(y_subset) > 0:\n",
        "#             kde = gaussian_kde(np.vstack([x_subset, y_subset]))\n",
        "#             xi_conditional, yi_conditional = np.mgrid[x_subset.min():x_subset.max():x_subset.size**0.5*1j,\n",
        "#                                                       y_subset.min():y_subset.max():y_subset.size**0.5*1j]\n",
        "#             zi_conditional = kde(np.vstack([xi_conditional.flatten(), yi_conditional.flatten()]))\n",
        "\n",
        "#             plt.pcolormesh(xi_conditional, yi_conditional, zi_conditional.reshape(xi_conditional.shape),\n",
        "#                            shading='auto', cmap='viridis', alpha=0.5)\n",
        "#             plt.figure()\n",
        "#             plt.scatter(x_subset, y_subset, c=color, s=5, label=f'Speaking: {value}')\n",
        "\n",
        "#             kde_list.append(kde)\n",
        "\n",
        "#     plt.title(title)\n",
        "#     plt.xlabel('Gaze X')\n",
        "#     plt.ylabel('Gaze Y')\n",
        "#     plt.legend()\n",
        "#     plt.show()\n",
        "\n",
        "#     return xi_conditional, yi_conditional, kde_list\n",
        "\n",
        "\n",
        "# def subtract_kde(general_kde, conditional_kde_list, xi, yi, x, y, label, title):\n",
        "#     general_density = general_kde(np.vstack([xi.flatten(), yi.flatten()]))\n",
        "#     x = np.asarray(x).flatten()\n",
        "#     y = np.asarray(y).flatten()\n",
        "\n",
        "#     plt.figure(figsize=(8, 8))\n",
        "\n",
        "#     for conditional_kde in conditional_kde_list:\n",
        "#         conditional_density = conditional_kde(np.vstack([xi.flatten(), yi.flatten()]))\n",
        "#         difference_density = conditional_density - general_density\n",
        "#         difference_density = difference_density.reshape(xi.shape)\n",
        "\n",
        "#         plt.pcolormesh(xi, yi, difference_density, shading='auto', cmap='viridis')\n",
        "\n",
        "#         plt.title('Labelling')\n",
        "#         plt.xlabel('Gaze X')\n",
        "#         plt.ylabel('Gaze Y')\n",
        "\n",
        "#         face_center_index = np.unravel_index(np.argmax(difference_density), difference_density.shape)\n",
        "#         if face_center_index[0] < len(xi) and face_center_index[1] < len(yi):\n",
        "#             face_center = (xi[0, face_center_index[1]], yi[face_center_index[0], 0])\n",
        "#             # plt.scatter(*face_center, c='r', marker='x')\n",
        "\n",
        "\n",
        "#             max_density = np.max(difference_density)\n",
        "#             threshold_fraction = 0.33\n",
        "#             taccept = max_density * threshold_fraction\n",
        "\n",
        "#             labelling_mask = (difference_density > taccept) & (difference_density >= 0)\n",
        "#             plt.scatter(xi[labelling_mask], yi[labelling_mask], c='red', s=5, label='Labelled Points')\n",
        "\n",
        "#         plt.legend()\n",
        "#         plt.show()\n",
        "\n",
        "\n",
        "\n",
        "\n",
        "\n"
      ],
      "metadata": {
        "id": "bRVpo-ZFyfJ8"
      },
      "execution_count": 10,
      "outputs": []
    },
    {
      "cell_type": "code",
      "source": [
        "def plot_kde(x, y, label, title):\n",
        "    mask = np.isfinite(x) & np.isfinite(y)\n",
        "    x = x[mask]\n",
        "    y = y[mask]\n",
        "\n",
        "    kde = gaussian_kde(np.vstack([x, y]))\n",
        "    xi, yi = np.mgrid[x.min():x.max():x.size**0.5*1j, y.min():y.max():y.size**0.5*1j]\n",
        "    zi = kde(np.vstack([xi.flatten(), yi.flatten()]))\n",
        "\n",
        "    plt.figure(figsize=(8, 8))\n",
        "    plt.pcolormesh(xi, yi, zi.reshape(xi.shape), shading='auto', cmap='viridis')\n",
        "    plt.scatter(x, y, c='r', s=5, label=label)\n",
        "    plt.title(title)\n",
        "    plt.xlabel('Gaze X')\n",
        "    plt.ylabel('Gaze Y')\n",
        "    plt.legend()\n",
        "    plt.show()\n",
        "\n",
        "    return xi, yi, kde\n",
        "\n",
        "def plot_conditional_kde(x, y, speaking, label, title):\n",
        "    speaking_values = speaking['speaking'].unique()\n",
        "    speaking_colors = ['r', 'g', 'b'][:len(speaking_values)]\n",
        "\n",
        "    plt.figure(figsize=(8, 8))\n",
        "    kde_list = []\n",
        "\n",
        "    for value, color in zip(speaking_values, speaking_colors):\n",
        "        mask = speaking['speaking'] == value\n",
        "        x_subset, y_subset = x[mask], y[mask]\n",
        "\n",
        "        valid_values = np.isfinite(x_subset) & np.isfinite(y_subset)\n",
        "        x_subset = x_subset[valid_values]\n",
        "        y_subset = y_subset[valid_values]\n",
        "\n",
        "        if len(x_subset) > 0 and len(y_subset) > 0:\n",
        "            kde = gaussian_kde(np.vstack([x_subset, y_subset]))\n",
        "            xi_conditional, yi_conditional = np.mgrid[x_subset.min():x_subset.max():x_subset.size**0.5*1j,\n",
        "                                                      y_subset.min():y_subset.max():y_subset.size**0.5*1j]\n",
        "            zi_conditional = kde(np.vstack([xi_conditional.flatten(), yi_conditional.flatten()]))\n",
        "\n",
        "            plt.pcolormesh(xi_conditional, yi_conditional, zi_conditional.reshape(xi_conditional.shape),\n",
        "                           shading='auto', cmap='viridis', alpha=0.5)\n",
        "            plt.scatter(x_subset, y_subset, c=color, s=5, label=f'Speaking: {value}')\n",
        "\n",
        "            kde_list.append(kde)\n",
        "\n",
        "    plt.title(title)\n",
        "    plt.xlabel('Gaze X')\n",
        "    plt.ylabel('Gaze Y')\n",
        "    plt.legend()\n",
        "    plt.show()\n",
        "\n",
        "    return xi_conditional, yi_conditional, kde_list\n",
        "\n",
        "\n",
        "def subtract_kde(general_kde, conditional_kde_list, xi, yi, x, y, label, title):\n",
        "    general_density = general_kde(np.vstack([xi.flatten(), yi.flatten()]))\n",
        "    x = np.asarray(x).flatten()\n",
        "    y = np.asarray(y).flatten()\n",
        "\n",
        "    for conditional_kde in conditional_kde_list:\n",
        "        conditional_density = conditional_kde(np.vstack([xi.flatten(), yi.flatten()]))\n",
        "        difference_density = conditional_density - general_density\n",
        "        difference_density = difference_density.reshape(xi.shape)\n",
        "\n",
        "        plt.figure(figsize=(8, 8))\n",
        "        plt.pcolormesh(xi, yi, difference_density, shading='auto', cmap='viridis')\n",
        "\n",
        "        plt.title(title)\n",
        "        plt.xlabel('Gaze X')\n",
        "        plt.ylabel('Gaze Y')\n",
        "\n",
        "\n",
        "        face_center_index = np.unravel_index(np.argmax(difference_density), difference_density.shape)\n",
        "        if face_center_index[0] < len(xi) and face_center_index[1] < len(yi):\n",
        "            face_center = (xi[0, face_center_index[1]], yi[face_center_index[0], 0])\n",
        "            plt.scatter(*face_center, c='r', marker='x')\n",
        "\n",
        "\n",
        "            max_density = np.max(difference_density)\n",
        "            threshold_fraction = 0.33  #\n",
        "            taccept = max_density * threshold_fraction\n",
        "\n",
        "            labelling_mask = (difference_density > taccept) & (difference_density >= 0)\n",
        "            plt.scatter(xi[labelling_mask], yi[labelling_mask], c='red', s=5, label='Labelled Points')\n",
        "\n",
        "        plt.legend()\n",
        "        plt.show()\n",
        "\n"
      ],
      "metadata": {
        "id": "RueKdDgpy2F5"
      },
      "execution_count": 8,
      "outputs": []
    },
    {
      "cell_type": "code",
      "source": [
        "xi_general, yi_general, general_kde = plot_kde(gaze_x, gaze_y, 'General KDE', 'General KDE Plot')\n",
        "xi_conditional, yi_conditional, conditional_kde_list = plot_conditional_kde(gaze_person2_id4['gaze_x'], gaze_person2_id4['gaze_y'], gaze_person2_id4, 'Conditional KDE', 'Conditional KDE Plot')\n",
        "subtract_kde(general_kde, conditional_kde_list, xi_general, yi_general, gaze_person2_id4['gaze_x'], gaze_person2_id4['gaze_y'], 'Subtracted KDE', 'Subtracted KDE Plot')\n"
      ],
      "metadata": {
        "id": "haQARZtS-Sqz"
      },
      "execution_count": 13,
      "outputs": []
    },
    {
      "cell_type": "code",
      "source": [
        "xi_general, yi_general, general_kde = plot_kde(gaze_x, gaze_y, 'General KDE', 'General KDE Plot')\n",
        "xi_conditional, yi_conditional, conditional_kde_list = plot_conditional_kde(gaze_person2_id3['gaze_x'], gaze_person2_id3['gaze_y'], gaze_person2_id3, 'Conditional KDE', 'Conditional KDE Plot')\n",
        "subtract_kde(general_kde, conditional_kde_list, xi_general, yi_general, gaze_person2_id3['gaze_x'], gaze_person2_id3['gaze_y'], 'Labellings', 'Labellings')"
      ],
      "metadata": {
        "id": "Ho7vJ5oo-ZMB"
      },
      "execution_count": 14,
      "outputs": []
    },
    {
      "cell_type": "code",
      "source": [
        "xi_general, yi_general, general_kde = plot_kde(gaze_x, gaze_y, 'General KDE', 'General KDE Plot')\n",
        "xi_conditional, yi_conditional, conditional_kde_list = plot_conditional_kde(gaze_person2_id1['gaze_x'], gaze_person2_id1['gaze_y'], gaze_person2_id1, 'Conditional KDE', 'Conditional KDE Plot')\n",
        "subtract_kde(general_kde, conditional_kde_list, xi_general, yi_general, gaze_person2_id1['gaze_x'], gaze_person2_id1['gaze_y'], 'Subtracted KDE', 'Subtracted KDE Plot')\n"
      ],
      "metadata": {
        "id": "gpJGO1OP-hU-"
      },
      "execution_count": 15,
      "outputs": []
    }
  ]
}